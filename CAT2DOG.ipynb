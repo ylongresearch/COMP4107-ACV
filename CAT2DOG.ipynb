{
  "nbformat": 4,
  "nbformat_minor": 0,
  "metadata": {
    "colab": {
      "name": "CAT2DOG.ipynb",
      "provenance": [],
      "machine_shape": "hm",
      "authorship_tag": "ABX9TyMFKrCrROvfPxHu7qY8QnaL",
      "include_colab_link": true
    },
    "kernelspec": {
      "name": "python3",
      "display_name": "Python 3"
    },
    "language_info": {
      "name": "python"
    },
    "accelerator": "GPU"
  },
  "cells": [
    {
      "cell_type": "markdown",
      "metadata": {
        "id": "view-in-github",
        "colab_type": "text"
      },
      "source": [
        "<a href=\"https://colab.research.google.com/github/ylongresearch/COMP4107-ACV/blob/main/CAT2DOG.ipynb\" target=\"_parent\"><img src=\"https://colab.research.google.com/assets/colab-badge.svg\" alt=\"Open In Colab\"/></a>"
      ]
    },
    {
      "cell_type": "code",
      "execution_count": 1,
      "metadata": {
        "colab": {
          "base_uri": "https://localhost:8080/"
        },
        "id": "3y7TJd4nxX3d",
        "outputId": "8c96066c-82e8-4ae7-d3df-bff06c23843c"
      },
      "outputs": [
        {
          "output_type": "stream",
          "name": "stdout",
          "text": [
            "We're using => cuda\n",
            "Mon Feb 28 17:22:54 2022       \n",
            "+-----------------------------------------------------------------------------+\n",
            "| NVIDIA-SMI 460.32.03    Driver Version: 460.32.03    CUDA Version: 11.2     |\n",
            "|-------------------------------+----------------------+----------------------+\n",
            "| GPU  Name        Persistence-M| Bus-Id        Disp.A | Volatile Uncorr. ECC |\n",
            "| Fan  Temp  Perf  Pwr:Usage/Cap|         Memory-Usage | GPU-Util  Compute M. |\n",
            "|                               |                      |               MIG M. |\n",
            "|===============================+======================+======================|\n",
            "|   0  Tesla P100-PCIE...  Off  | 00000000:00:04.0 Off |                    0 |\n",
            "| N/A   40C    P0    26W / 250W |      2MiB / 16280MiB |      0%      Default |\n",
            "|                               |                      |                  N/A |\n",
            "+-------------------------------+----------------------+----------------------+\n",
            "                                                                               \n",
            "+-----------------------------------------------------------------------------+\n",
            "| Processes:                                                                  |\n",
            "|  GPU   GI   CI        PID   Type   Process name                  GPU Memory |\n",
            "|        ID   ID                                                   Usage      |\n",
            "|=============================================================================|\n",
            "|  No running processes found                                                 |\n",
            "+-----------------------------------------------------------------------------+\n"
          ]
        }
      ],
      "source": [
        "import torch\n",
        "device = torch.device(\"cuda\" if torch.cuda.is_available() else \"cpu\")\n",
        "print(\"We're using =>\", device)\n",
        "!nvidia-smi"
      ]
    },
    {
      "cell_type": "code",
      "source": [
        "from keras.datasets import cifar10\n",
        "(X_train, Y_train), (X_test, Y_test) = cifar10.load_data()\n",
        "print(X_train.shape, X_train.dtype, Y_train.shape, Y_train.dtype)\n",
        "#########################\n",
        "import numpy as np\n",
        "import matplotlib.pyplot as plt\n",
        "classes = ('plane', 'car', 'bird', 'cat', 'deer', 'dog', 'frog', 'horse', 'ship', 'truck')\n",
        "\n",
        "cat_idx = np.where(Y_train[:, 0] == 3)\n",
        "dog_idx = np.where(Y_train[:, 0] == 5)\n",
        "cat_idx_test = np.where(Y_test[:, 0] == 3)\n",
        "dog_idx_test = np.where(Y_test[:, 0] == 5)\n",
        "\n",
        "print(np.shape(cat_idx))\n",
        "print(np.shape(dog_idx))\n",
        "plt.imshow(X_train[dog_idx[0][4999]]) # visualise random images in range 0 to 4999\n",
        "################################\n",
        "\n",
        "cat_dog_idx = np.concatenate((cat_idx[0], dog_idx[0]))\n",
        "cat_dog_idx_test = np.concatenate((cat_idx_test[0], dog_idx_test[0]))\n",
        "\n",
        "cat_train = X_train[cat_idx]\n",
        "dog_train = X_train[dog_idx]\n",
        "cat_test = X_test[cat_idx_test]\n",
        "dog_test = X_test[dog_idx_test]\n",
        "\n",
        "\n",
        "cat_train = np.transpose(cat_train, (0,3,2,1))\n",
        "dog_train = np.transpose(dog_train, (0,3,2,1))\n",
        "cat_test = np.transpose(cat_test, (0,3,2,1))\n",
        "dog_test = np.transpose(dog_test, (0,3,2,1))\n",
        "print(np.shape(cat_train))\n",
        "print(np.shape(dog_train))"
      ],
      "metadata": {
        "colab": {
          "base_uri": "https://localhost:8080/",
          "height": 355
        },
        "id": "tN-HFL4T2wcT",
        "outputId": "01958a3c-cccd-43a1-93e5-46668b378658"
      },
      "execution_count": 3,
      "outputs": [
        {
          "output_type": "stream",
          "name": "stdout",
          "text": [
            "(50000, 32, 32, 3) uint8 (50000, 1) uint8\n",
            "(1, 5000)\n",
            "(1, 5000)\n",
            "(5000, 3, 32, 32)\n",
            "(5000, 3, 32, 32)\n"
          ]
        },
        {
          "output_type": "display_data",
          "data": {
            "image/png": "[encoded data removed]",
            "text/plain": [
              "<Figure size 432x288 with 1 Axes>"
            ]
          },
          "metadata": {
            "needs_background": "light"
          }
        }
      ]
    },
    {
      "cell_type": "code",
      "source": [
        "!pip install albumentations==0.4.6"
      ],
      "metadata": {
        "colab": {
          "base_uri": "https://localhost:8080/"
        },
        "id": "RCs4CsSu3fYX",
        "outputId": "bf9e7111-08b9-4628-acb1-a7ebc00c153a"
      },
      "execution_count": null,
      "outputs": [
        {
          "output_type": "stream",
          "name": "stdout",
          "text": [
            "Collecting albumentations==0.4.6\n",
            "  Downloading albumentations-0.4.6.tar.gz (117 kB)\n",
            "\u001b[K     |████████████████████████████████| 117 kB 4.2 MB/s \n",
            "\u001b[?25hRequirement already satisfied: numpy>=1.11.1 in /usr/local/lib/python3.7/dist-packages (from albumentations==0.4.6) (1.21.5)\n",
            "Requirement already satisfied: scipy in /usr/local/lib/python3.7/dist-packages (from albumentations==0.4.6) (1.4.1)\n",
            "Collecting imgaug>=0.4.0\n",
            "  Downloading imgaug-0.4.0-py2.py3-none-any.whl (948 kB)\n",
            "\u001b[K     |████████████████████████████████| 948 kB 31.2 MB/s \n",
            "\u001b[?25hRequirement already satisfied: PyYAML in /usr/local/lib/python3.7/dist-packages (from albumentations==0.4.6) (3.13)\n",
            "Requirement already satisfied: opencv-python>=4.1.1 in /usr/local/lib/python3.7/dist-packages (from albumentations==0.4.6) (4.1.2.30)\n",
            "Requirement already satisfied: six in /usr/local/lib/python3.7/dist-packages (from imgaug>=0.4.0->albumentations==0.4.6) (1.15.0)\n",
            "Requirement already satisfied: Shapely in /usr/local/lib/python3.7/dist-packages (from imgaug>=0.4.0->albumentations==0.4.6) (1.8.1)\n",
            "Requirement already satisfied: matplotlib in /usr/local/lib/python3.7/dist-packages (from imgaug>=0.4.0->albumentations==0.4.6) (3.2.2)\n",
            "Requirement already satisfied: scikit-image>=0.14.2 in /usr/local/lib/python3.7/dist-packages (from imgaug>=0.4.0->albumentations==0.4.6) (0.18.3)\n",
            "Requirement already satisfied: imageio in /usr/local/lib/python3.7/dist-packages (from imgaug>=0.4.0->albumentations==0.4.6) (2.4.1)\n",
            "Requirement already satisfied: Pillow in /usr/local/lib/python3.7/dist-packages (from imgaug>=0.4.0->albumentations==0.4.6) (7.1.2)\n",
            "Requirement already satisfied: networkx>=2.0 in /usr/local/lib/python3.7/dist-packages (from scikit-image>=0.14.2->imgaug>=0.4.0->albumentations==0.4.6) (2.6.3)\n",
            "Requirement already satisfied: PyWavelets>=1.1.1 in /usr/local/lib/python3.7/dist-packages (from scikit-image>=0.14.2->imgaug>=0.4.0->albumentations==0.4.6) (1.2.0)\n",
            "Requirement already satisfied: tifffile>=2019.7.26 in /usr/local/lib/python3.7/dist-packages (from scikit-image>=0.14.2->imgaug>=0.4.0->albumentations==0.4.6) (2021.11.2)\n",
            "Requirement already satisfied: pyparsing!=2.0.4,!=2.1.2,!=2.1.6,>=2.0.1 in /usr/local/lib/python3.7/dist-packages (from matplotlib->imgaug>=0.4.0->albumentations==0.4.6) (3.0.7)\n",
            "Requirement already satisfied: cycler>=0.10 in /usr/local/lib/python3.7/dist-packages (from matplotlib->imgaug>=0.4.0->albumentations==0.4.6) (0.11.0)\n",
            "Requirement already satisfied: python-dateutil>=2.1 in /usr/local/lib/python3.7/dist-packages (from matplotlib->imgaug>=0.4.0->albumentations==0.4.6) (2.8.2)\n",
            "Requirement already satisfied: kiwisolver>=1.0.1 in /usr/local/lib/python3.7/dist-packages (from matplotlib->imgaug>=0.4.0->albumentations==0.4.6) (1.3.2)\n",
            "Building wheels for collected packages: albumentations\n",
            "  Building wheel for albumentations (setup.py) ... \u001b[?25l\u001b[?25hdone\n",
            "  Created wheel for albumentations: filename=albumentations-0.4.6-py3-none-any.whl size=65174 sha256=2671c72a5123fc347c01cbf9f38e8f453d3614c531fcda9e0a1f5805a3729be7\n",
            "  Stored in directory: /root/.cache/pip/wheels/cf/34/0f/cb2a5f93561a181a4bcc84847ad6aaceea8b5a3127469616cc\n",
            "Successfully built albumentations\n",
            "Installing collected packages: imgaug, albumentations\n",
            "  Attempting uninstall: imgaug\n",
            "    Found existing installation: imgaug 0.2.9\n",
            "    Uninstalling imgaug-0.2.9:\n",
            "      Successfully uninstalled imgaug-0.2.9\n",
            "  Attempting uninstall: albumentations\n",
            "    Found existing installation: albumentations 0.1.12\n",
            "    Uninstalling albumentations-0.1.12:\n",
            "      Successfully uninstalled albumentations-0.1.12\n",
            "Successfully installed albumentations-0.4.6 imgaug-0.4.0\n"
          ]
        }
      ]
    },
    {
      "cell_type": "code",
      "source": [
        "import torchvision\n",
        "from torch.utils.data import Dataset, DataLoader\n",
        "import albumentations as A\n",
        "from albumentations.pytorch import ToTensorV2\n",
        "\n",
        "transforms = A.Compose(\n",
        "    [\n",
        "        A.Resize(width=256, height=256),\n",
        "        A.HorizontalFlip(p=0.5),\n",
        "        A.Normalize(mean=[0.5, 0.5, 0.5], std=[0.5, 0.5, 0.5], max_pixel_value=255),\n",
        "        ToTensorV2(),\n",
        "     ],\n",
        "    additional_targets={\"image0\": \"image\"},\n",
        ")\n",
        "\n",
        "class PBdataset():\n",
        "    def __init__():\n",
        "\n",
        "\n",
        "    def __getitem__():\n",
        "\n",
        "\n",
        "    def __len__():\n",
        "\n",
        "\n",
        "\n",
        "batch_size = 50\n",
        "catdogTrainSet = \n",
        "catdogTrainLoader = \n",
        "catdogTestSet = \n",
        "catdogTestLoader = "
      ],
      "metadata": {
        "id": "lZSqFwaO3LIN"
      },
      "execution_count": null,
      "outputs": []
    },
    {
      "cell_type": "code",
      "source": [
        "import torch.nn as nn\n",
        "\n",
        "class Block():\n",
        "    def __init__():\n",
        "\n",
        "\n",
        "    def forward():\n",
        "        \n",
        "\n",
        "class Discriminator():\n",
        "    def __init__():\n",
        "\n",
        "    def forward():\n",
        "        \n",
        "\n",
        "x = torch.randn((5, 3, 256, 256))\n",
        "model = Discriminator(in_channels=3)\n",
        "preds = model(x)\n",
        "print(preds.shape)"
      ],
      "metadata": {
        "colab": {
          "base_uri": "https://localhost:8080/"
        },
        "id": "riIdPkBI4QTo",
        "outputId": "a3f55099-9861-486b-a8e6-f5c388fde60b"
      },
      "execution_count": null,
      "outputs": [
        {
          "output_type": "stream",
          "name": "stdout",
          "text": [
            "torch.Size([5, 1, 30, 30])\n"
          ]
        }
      ]
    },
    {
      "cell_type": "code",
      "source": [
        "import torch.nn as nn\n",
        "\n",
        "class ConvBlock():\n",
        "    def __init__():\n",
        "\n",
        "    def forward():\n",
        "\n",
        "\n",
        "class ResidualBlock():\n",
        "    def __init__():\n",
        "\n",
        "\n",
        "    def forward():\n",
        "\n",
        "\n",
        "class Generator():\n",
        "    def __init__():\n",
        "\n",
        "\n",
        "    def forward():\n",
        "\n",
        "\n",
        "\n",
        "img_channels = 3\n",
        "img_size = 256\n",
        "x = torch.randn((2, img_channels, img_size, img_size))\n",
        "gen = Generator(img_channels, 9)\n",
        "print(gen(x).shape)"
      ],
      "metadata": {
        "colab": {
          "base_uri": "https://localhost:8080/"
        },
        "id": "5QtnDU5Q4Gb_",
        "outputId": "d2d87012-f6c7-455c-b2aa-a71d0ed97e1e"
      },
      "execution_count": null,
      "outputs": [
        {
          "output_type": "stream",
          "name": "stdout",
          "text": [
            "torch.Size([2, 3, 256, 256])\n"
          ]
        }
      ]
    },
    {
      "cell_type": "code",
      "source": [
        "import torch\n",
        "import sys\n",
        "import torch.optim as optim\n",
        "from tqdm import tqdm\n",
        "from torchvision.utils import save_image\n",
        "\n",
        "LEARNING_RATE = 1e-5\n",
        "LAMBDA_IDENTITY = 0.0\n",
        "LAMBDA_CYCLE = 10\n",
        "NUM_EPOCHS = 10\n",
        "SAVE_MODEL = False\n",
        "def train_fn(disc_H, disc_Z, gen_Z, gen_H, loader, opt_disc, opt_gen, l1, mse, d_scaler, g_scaler):\n",
        "    H_reals = 0\n",
        "    H_fakes = 0\n",
        "    loop = tqdm(loader, leave=True)\n",
        "\n",
        "    for idx, (cat, dog) in enumerate(loop):\n",
        "        cat = cat.to(device)\n",
        "        dog = dog.to(device)\n",
        "\n",
        "        # Train Discriminators H and Z\n",
        "        with torch.cuda.amp.autocast():\n",
        "        ################### Write Discriminator Loss Here\n",
        "\n",
        "\n",
        "\n",
        "\n",
        "        ##################\n",
        "        opt_disc.zero_grad()\n",
        "        d_scaler.scale(D_loss).backward()\n",
        "        d_scaler.step(opt_disc)\n",
        "        d_scaler.update()\n",
        "\n",
        "        # Train Generators H and Z\n",
        "        with torch.cuda.amp.autocast():\n",
        "        ################### Write Generator Loss Here\n",
        "\n",
        "\n",
        "\n",
        "\n",
        "        ##################\n",
        "            \n",
        "\n",
        "        opt_gen.zero_grad()\n",
        "        g_scaler.scale(G_loss).backward()\n",
        "        g_scaler.step(opt_gen)\n",
        "        g_scaler.update()\n",
        "\n",
        "        if idx % 200 == 0:\n",
        "            save_image(fake_dog*0.5+0.5, f\"./saved_images/dog_{idx}.png\")\n",
        "            save_image(fake_cat*0.5+0.5, f\"./saved_images/cat_{idx}.png\")\n",
        "\n",
        "        loop.set_postfix(H_real=H_reals/(idx+1), H_fake=H_fakes/(idx+1))"
      ],
      "metadata": {
        "id": "m10hIV2G4aCf"
      },
      "execution_count": null,
      "outputs": []
    },
    {
      "cell_type": "code",
      "source": [
        "!mkdir saved_images"
      ],
      "metadata": {
        "id": "yIQSMRvn5A39"
      },
      "execution_count": null,
      "outputs": []
    },
    {
      "cell_type": "code",
      "source": [
        "def main():\n",
        "    disc_H = Discriminator(in_channels=3).to(device)\n",
        "    disc_Z = Discriminator(in_channels=3).to(device)\n",
        "    gen_Z = Generator(img_channels=3, num_residuals=4).to(device)\n",
        "    gen_H = Generator(img_channels=3, num_residuals=4).to(device)\n",
        "    opt_disc = optim.Adam(\n",
        "        list(disc_H.parameters()) + list(disc_Z.parameters()),\n",
        "        lr=LEARNING_RATE,\n",
        "        betas=(0.5, 0.999),\n",
        "    )\n",
        "\n",
        "    opt_gen = optim.Adam(\n",
        "        list(gen_Z.parameters()) + list(gen_H.parameters()),\n",
        "        lr=LEARNING_RATE,\n",
        "        betas=(0.5, 0.999),\n",
        "    )\n",
        "\n",
        "    L1 = nn.L1Loss()\n",
        "    mse = nn.MSELoss()\n",
        "\n",
        "\n",
        "    g_scaler = torch.cuda.amp.GradScaler()\n",
        "    d_scaler = torch.cuda.amp.GradScaler()\n",
        "\n",
        "    for epoch in range(NUM_EPOCHS):\n",
        "        train_fn(disc_H, disc_Z, gen_Z, gen_H, catdogTrainLoader, opt_disc, opt_gen, L1, mse, d_scaler, g_scaler)\n",
        "\n",
        "if __name__ == \"__main__\":\n",
        "    main()"
      ],
      "metadata": {
        "colab": {
          "base_uri": "https://localhost:8080/"
        },
        "id": "KVvmwAWz4oX2",
        "outputId": "0b47424c-1f6b-4ae2-babe-79344b6b639e"
      },
      "execution_count": null,
      "outputs": [
        {
          "output_type": "stream",
          "name": "stderr",
          "text": [
            "100%|██████████| 100/100 [00:25<00:00,  3.91it/s, H_fake=0.436, H_real=0.567]\n",
            "100%|██████████| 100/100 [00:25<00:00,  3.88it/s, H_fake=0.394, H_real=0.61]\n",
            "100%|██████████| 100/100 [00:26<00:00,  3.78it/s, H_fake=0.391, H_real=0.605]\n",
            "100%|██████████| 100/100 [00:27<00:00,  3.66it/s, H_fake=0.397, H_real=0.599]\n",
            "100%|██████████| 100/100 [00:27<00:00,  3.66it/s, H_fake=0.399, H_real=0.595]\n",
            "100%|██████████| 100/100 [00:27<00:00,  3.70it/s, H_fake=0.408, H_real=0.587]\n",
            "100%|██████████| 100/100 [00:27<00:00,  3.69it/s, H_fake=0.409, H_real=0.581]\n",
            "100%|██████████| 100/100 [00:27<00:00,  3.68it/s, H_fake=0.403, H_real=0.588]\n",
            "100%|██████████| 100/100 [00:27<00:00,  3.69it/s, H_fake=0.398, H_real=0.596]\n",
            "100%|██████████| 100/100 [00:27<00:00,  3.69it/s, H_fake=0.394, H_real=0.599]\n"
          ]
        }
      ]
    }
  ]
}