{
  "nbformat": 4,
  "nbformat_minor": 0,
  "metadata": {
    "colab": {
      "name": "CycleGAN_example.ipynb",
      "provenance": [],
      "authorship_tag": "ABX9TyOC3qafjgH+hop/oXRrRy44",
      "include_colab_link": true
    },
    "kernelspec": {
      "name": "python3",
      "display_name": "Python 3"
    },
    "language_info": {
      "name": "python"
    }
  },
  "cells": [
    {
      "cell_type": "markdown",
      "metadata": {
        "id": "view-in-github",
        "colab_type": "text"
      },
      "source": [
        "<a href=\"https://colab.research.google.com/github/ylongresearch/COMP4107-ACV/blob/main/CycleGAN_example.ipynb\" target=\"_parent\"><img src=\"https://colab.research.google.com/assets/colab-badge.svg\" alt=\"Open In Colab\"/></a>"
      ]
    },
    {
      "cell_type": "code",
      "execution_count": null,
      "metadata": {
        "id": "V2LX7qOnb7S4"
      },
      "outputs": [],
      "source": [
        "from keras.datasets import cifar10\n",
        "(X_train, Y_train), (X_test, Y_test) = cifar10.load_data()\n",
        "print(X_train.shape, X_train.dtype, Y_train.shape, Y_train.dtype)"
      ]
    },
    {
      "cell_type": "code",
      "source": [
        "import numpy as np\n",
        "import matplotlib.pyplot as plt\n",
        "classes = ('plane', 'car', 'bird', 'cat', 'deer', 'dog', 'frog', 'horse', 'ship', 'truck')\n",
        "\n",
        "plane_idx = np.where(Y_train[:,0]==0)\n",
        "bird_idx = np.where(Y_train[:,0]==2)\n",
        "\n",
        "plane_idx_test = np.where(Y_test[:,0]==0)\n",
        "bird_idx_test = np.where(Y_test[:,0]==2)\n",
        "\n",
        "print(np.shape(plane_idx))\n",
        "print(np.shape(bird_idx))\n",
        "plt.imshow(X_train[bird_idx[0][4999]]) # visualise random images in range 0 to 4999"
      ],
      "metadata": {
        "id": "zlfJ1qubelKU"
      },
      "execution_count": null,
      "outputs": []
    },
    {
      "cell_type": "code",
      "source": [
        "plane_bird_idx = np.concatenate((plane_idx[0],bird_idx[0]))\n",
        "plane_bird_idx_test = np.concatenate((plane_idx_test[0],bird_idx_test[0]))\n",
        "\n",
        "Xpb_train = X_train[plane_bird_idx]\n",
        "Ypb_train = Y_train[plane_bird_idx]\n",
        "Xpb_test  = X_test[plane_bird_idx_test]\n",
        "Ypb_test  = Y_test[plane_bird_idx_test]\n",
        "print(Xpb_train.shape, Ypb_train.shape, Xpb_test.shape, Ypb_test.shape)"
      ],
      "metadata": {
        "id": "RCB0fVfX4rv4"
      },
      "execution_count": null,
      "outputs": []
    },
    {
      "cell_type": "code",
      "source": [
        "from re import X\n",
        "import torch\n",
        "import torchvision\n",
        "import torchvision.transforms as transforms\n",
        "from torch.utils.data import Dataset, DataLoader\n",
        "\n",
        "class PBdataset(Dataset):\n",
        "  def __init__(self, X_data, Y_data, transform=None):\n",
        "    self.X_data = X_data\n",
        "    self.Y_data = Y_data\n",
        "    self.transform = transform\n",
        "\n",
        "  def __len__(self):\n",
        "    return len(self.X_data)\n",
        "\n",
        "  def __getitem__(self, index):\n",
        "    X_data = self.X_data[index]\n",
        "    if self.transform:\n",
        "      X_data = self.transform(X_data)\n",
        "      \n",
        "    return X_data, self.y_data[index]\n",
        "\n",
        "transform = transforms.Compose(\n",
        "    [transforms.ToTensor(),\n",
        "     transforms.Normalize((0.5, 0.5, 0.5), (0.5, 0.5, 0.5))])\n",
        "\n",
        "batch_size = 32\n",
        "trainset = PBdataset(Xpb_train, Ypb_train, transform=transform)\n",
        "trainloader = torch.utils.data.DataLoader(trainset, batch_size=batch_size, shuffle=True, num_workers=2)\n",
        "\n",
        "testset = PBdataset(Xpb_test, Ypb_test, transform=transform)\n",
        "testloader = torch.utils.data.DataLoader(testset, batch_size=batch_size, num_workers=2)"
      ],
      "metadata": {
        "id": "BJ-fdx_jAXI1"
      },
      "execution_count": 94,
      "outputs": []
    },
    {
      "cell_type": "code",
      "source": [
        "import torch.nn as nn\n",
        "\n",
        "class Discriminator(nn.Module):\n",
        "  def __init__(self):\n",
        "      super(Discriminator, self).__init__()"
      ],
      "metadata": {
        "id": "96vxVTGXX8kO",
        "outputId": "7c53ff4f-8cb3-497f-ce42-22ce2979d23c",
        "colab": {
          "base_uri": "https://localhost:8080/"
        }
      },
      "execution_count": 97,
      "outputs": [
        {
          "output_type": "execute_result",
          "data": {
            "text/plain": [
              "__main__.PBdataset"
            ]
          },
          "metadata": {},
          "execution_count": 97
        }
      ]
    }
  ]
}