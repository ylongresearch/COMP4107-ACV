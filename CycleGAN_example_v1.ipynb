{
  "nbformat": 4,
  "nbformat_minor": 0,
  "metadata": {
    "colab": {
      "name": "CycleGAN_example.ipynb",
      "provenance": [],
      "machine_shape": "hm",
      "authorship_tag": "ABX9TyPzb7gJJzUXeNOXJooPPSIt",
      "include_colab_link": true
    },
    "kernelspec": {
      "name": "python3",
      "display_name": "Python 3"
    },
    "language_info": {
      "name": "python"
    },
    "accelerator": "GPU"
  },
  "cells": [
    {
      "cell_type": "markdown",
      "metadata": {
        "id": "view-in-github",
        "colab_type": "text"
      },
      "source": [
        "<a href=\"https://colab.research.google.com/github/ylongresearch/COMP4107-ACV/blob/main/CycleGAN_example_v1.ipynb\" target=\"_parent\"><img src=\"https://colab.research.google.com/assets/colab-badge.svg\" alt=\"Open In Colab\"/></a>"
      ]
    },
    {
      "cell_type": "code",
      "source": [
        "import torch\n",
        "device = torch.device(\"cuda\" if torch.cuda.is_available() else \"cpu\")\n",
        "print(\"We're using =>\", device)\n",
        "!nvidia-smi"
      ],
      "metadata": {
        "id": "mu-EpmZKe14x",
        "outputId": "9efac358-a6da-4316-fe98-4ae06793e5af",
        "colab": {
          "base_uri": "https://localhost:8080/"
        }
      },
      "execution_count": 1,
      "outputs": [
        {
          "output_type": "stream",
          "name": "stdout",
          "text": [
            "We're using => cuda\n",
            "Wed Feb 23 14:57:57 2022       \n",
            "+-----------------------------------------------------------------------------+\n",
            "| NVIDIA-SMI 460.32.03    Driver Version: 460.32.03    CUDA Version: 11.2     |\n",
            "|-------------------------------+----------------------+----------------------+\n",
            "| GPU  Name        Persistence-M| Bus-Id        Disp.A | Volatile Uncorr. ECC |\n",
            "| Fan  Temp  Perf  Pwr:Usage/Cap|         Memory-Usage | GPU-Util  Compute M. |\n",
            "|                               |                      |               MIG M. |\n",
            "|===============================+======================+======================|\n",
            "|   0  Tesla T4            Off  | 00000000:00:04.0 Off |                    0 |\n",
            "| N/A   62C    P8    11W /  70W |      3MiB / 15109MiB |      0%      Default |\n",
            "|                               |                      |                  N/A |\n",
            "+-------------------------------+----------------------+----------------------+\n",
            "                                                                               \n",
            "+-----------------------------------------------------------------------------+\n",
            "| Processes:                                                                  |\n",
            "|  GPU   GI   CI        PID   Type   Process name                  GPU Memory |\n",
            "|        ID   ID                                                   Usage      |\n",
            "|=============================================================================|\n",
            "|  No running processes found                                                 |\n",
            "+-----------------------------------------------------------------------------+\n"
          ]
        }
      ]
    },
    {
      "cell_type": "code",
      "execution_count": 2,
      "metadata": {
        "id": "V2LX7qOnb7S4",
        "outputId": "9a00d16c-3419-4ca5-9be0-11aa6b0606c1",
        "colab": {
          "base_uri": "https://localhost:8080/"
        }
      },
      "outputs": [
        {
          "output_type": "stream",
          "name": "stdout",
          "text": [
            "(50000, 32, 32, 3) uint8 (50000, 1) uint8\n"
          ]
        }
      ],
      "source": [
        "from keras.datasets import cifar10\n",
        "(X_train, Y_train), (X_test, Y_test) = cifar10.load_data()\n",
        "print(X_train.shape, X_train.dtype, Y_train.shape, Y_train.dtype)"
      ]
    },
    {
      "cell_type": "code",
      "source": [
        "import numpy as np\n",
        "import matplotlib.pyplot as plt\n",
        "classes = ('plane', 'car', 'bird', 'cat', 'deer', 'dog', 'frog', 'horse', 'ship', 'truck')\n",
        "\n",
        "plane_idx = np.where(Y_train[:,0]==0)\n",
        "bird_idx = np.where(Y_train[:,0]==2)\n",
        "\n",
        "plane_idx_test = np.where(Y_test[:,0]==0)\n",
        "bird_idx_test = np.where(Y_test[:,0]==2)\n",
        "\n",
        "print(np.shape(plane_idx))\n",
        "print(np.shape(bird_idx))\n",
        "plt.imshow(X_train[bird_idx[0][4999]]) # visualise random images in range 0 to 4999"
      ],
      "metadata": {
        "id": "zlfJ1qubelKU",
        "outputId": "d8ee75c4-3e52-45cd-b61c-20a905faafb0",
        "colab": {
          "base_uri": "https://localhost:8080/",
          "height": 319
        }
      },
      "execution_count": 3,
      "outputs": [
        {
          "output_type": "stream",
          "name": "stdout",
          "text": [
            "(1, 5000)\n",
            "(1, 5000)\n"
          ]
        },
        {
          "output_type": "execute_result",
          "data": {
            "text/plain": [
              "<matplotlib.image.AxesImage at 0x7fb832d36c50>"
            ]
          },
          "metadata": {},
          "execution_count": 3
        },
        {
          "output_type": "display_data",
          "data": {
            "image/png": "[encoded data removed]",
            "text/plain": [
              "<Figure size 432x288 with 1 Axes>"
            ]
          },
          "metadata": {
            "needs_background": "light"
          }
        }
      ]
    },
    {
      "cell_type": "code",
      "source": [
        "plane_bird_idx = np.concatenate((plane_idx[0],bird_idx[0]))\n",
        "plane_bird_idx_test = np.concatenate((plane_idx_test[0],bird_idx_test[0]))\n",
        "\n",
        "Xpb_train = X_train[plane_bird_idx]\n",
        "Ypb_train = Y_train[plane_bird_idx]\n",
        "Xpb_test  = X_test[plane_bird_idx_test]\n",
        "Ypb_test  = Y_test[plane_bird_idx_test]\n",
        "print(Xpb_train.shape, Ypb_train.shape, Xpb_test.shape, Ypb_test.shape)\n",
        "\n",
        "Xpb_train = np.transpose(Xpb_train, (0,3,2,1))\n",
        "Xpb_test = np.transpose(Xpb_test, (0,3,2,1))\n",
        "print(Xpb_train.shape, Ypb_train.shape, Xpb_test.shape, Ypb_test.shape)\n"
      ],
      "metadata": {
        "colab": {
          "base_uri": "https://localhost:8080/"
        },
        "id": "RCB0fVfX4rv4",
        "outputId": "24563070-7e17-4a32-a4f3-4fc35400ad7d"
      },
      "execution_count": 4,
      "outputs": [
        {
          "output_type": "stream",
          "name": "stdout",
          "text": [
            "(10000, 32, 32, 3) (10000, 1) (2000, 32, 32, 3) (2000, 1)\n",
            "(10000, 3, 32, 32) (10000, 1) (2000, 3, 32, 32) (2000, 1)\n"
          ]
        }
      ]
    },
    {
      "cell_type": "code",
      "source": [
        "type(Xpb_test)"
      ],
      "metadata": {
        "id": "lkp8B6eWAw2f",
        "outputId": "14622cba-2579-42f0-fbea-4100d077af4f",
        "colab": {
          "base_uri": "https://localhost:8080/"
        }
      },
      "execution_count": 5,
      "outputs": [
        {
          "output_type": "execute_result",
          "data": {
            "text/plain": [
              "numpy.ndarray"
            ]
          },
          "metadata": {},
          "execution_count": 5
        }
      ]
    },
    {
      "cell_type": "code",
      "source": [
        "import torchvision\n",
        "from torch.utils.data import Dataset, DataLoader\n",
        "\n",
        "class PBdataset(Dataset):\n",
        "  def __init__(self, X, Y):\n",
        "    self.X = torch.from_numpy(X)\n",
        "    self.Y = torch.from_numpy(Y)\n",
        "  \n",
        "  def __getitem__(self, index):\n",
        "    return self.X[index], self.Y[index]\n",
        "\n",
        "  def __len__(self):\n",
        "    return len(self.X)\n",
        "\n",
        "batch_size = 50\n",
        "trainset = PBdataset(Xpb_train, Ypb_train)\n",
        "trainloader = torch.utils.data.DataLoader(trainset, batch_size=batch_size, shuffle=True)\n",
        "testset = PBdataset(Xpb_test, Ypb_test)\n",
        "testloader = torch.utils.data.DataLoader(testset, batch_size=batch_size)"
      ],
      "metadata": {
        "id": "BJ-fdx_jAXI1"
      },
      "execution_count": 6,
      "outputs": []
    },
    {
      "cell_type": "code",
      "source": [
        "import torch.nn as nn\n",
        "class Discriminator(nn.Module):\n",
        "  def __init__(self):\n",
        "      super(Discriminator, self).__init__()\n",
        "\n",
        "      self.layer1 = self.conv_block(c_in=3,   c_out=128, dropout=0.1, kernel_size=3, stride=1, padding=1)\n",
        "      self.maxpool = nn.MaxPool2d(kernel_size=2, stride=2)\n",
        "      self.layer2 = self.conv_block(c_in=128, c_out=64, dropout=0.1, kernel_size=3, stride=1, padding=1)\n",
        "      \n",
        "      self.fc = nn.Linear(16*16*64, 128)\n",
        "      self.fc2 = nn.Linear(128,2)\n",
        "\n",
        "  def forward(self, x):\n",
        "    x = self.layer1(x)\n",
        "    x = self.maxpool(x)\n",
        "    x = self.layer2(x)\n",
        "    x = x.view(x.shape[0], -1)\n",
        "    x = self.fc(x)\n",
        "    x = self.fc2(x)\n",
        "    return x\n",
        "\n",
        "  def conv_block(self, c_in, c_out, dropout,  **kwargs):\n",
        "        seq_block = nn.Sequential(\n",
        "            nn.Conv2d(in_channels=c_in, out_channels=c_out, **kwargs),\n",
        "            nn.BatchNorm2d(num_features=c_out),\n",
        "            nn.LeakyReLU(0.2, inplace=True),\n",
        "            nn.Dropout2d(p=dropout)\n",
        "        )\n",
        "        return seq_block\n",
        "\n",
        "def test():\n",
        "    x = torch.randn((16, 3, 32, 32))\n",
        "    model = Discriminator()\n",
        "    preds = model(x)\n",
        "    print(preds.shape)\n",
        "    print(model)\n",
        "\n",
        "\n",
        "if __name__ == \"__main__\":\n",
        "    test()"
      ],
      "metadata": {
        "colab": {
          "base_uri": "https://localhost:8080/"
        },
        "id": "96vxVTGXX8kO",
        "outputId": "ca82ac4c-af10-42dd-b36e-3867e7cd94db"
      },
      "execution_count": 7,
      "outputs": [
        {
          "output_type": "stream",
          "name": "stdout",
          "text": [
            "torch.Size([16, 2])\n",
            "Discriminator(\n",
            "  (layer1): Sequential(\n",
            "    (0): Conv2d(3, 128, kernel_size=(3, 3), stride=(1, 1), padding=(1, 1))\n",
            "    (1): BatchNorm2d(128, eps=1e-05, momentum=0.1, affine=True, track_running_stats=True)\n",
            "    (2): LeakyReLU(negative_slope=0.2, inplace=True)\n",
            "    (3): Dropout2d(p=0.1, inplace=False)\n",
            "  )\n",
            "  (maxpool): MaxPool2d(kernel_size=2, stride=2, padding=0, dilation=1, ceil_mode=False)\n",
            "  (layer2): Sequential(\n",
            "    (0): Conv2d(128, 64, kernel_size=(3, 3), stride=(1, 1), padding=(1, 1))\n",
            "    (1): BatchNorm2d(64, eps=1e-05, momentum=0.1, affine=True, track_running_stats=True)\n",
            "    (2): LeakyReLU(negative_slope=0.2, inplace=True)\n",
            "    (3): Dropout2d(p=0.1, inplace=False)\n",
            "  )\n",
            "  (fc): Linear(in_features=16384, out_features=128, bias=True)\n",
            "  (fc2): Linear(in_features=128, out_features=2, bias=True)\n",
            ")\n"
          ]
        }
      ]
    },
    {
      "cell_type": "code",
      "source": [
        "import torch.optim as optim\n",
        "EPOCHS = 50\n",
        "LEARNING_RATE = 0.001\n",
        "\n",
        "model = Discriminator()\n",
        "model.to(device)\n",
        "criterion = nn.CrossEntropyLoss()\n",
        "optimizer = optim.Adam(model.parameters(), lr=LEARNING_RATE)\n",
        "\n",
        "def binary_acc(y_pred, y_test):\n",
        "    y_pred_tag = torch.round(torch.sigmoid(y_pred))\n",
        "\n",
        "    correct_results_sum = (y_pred_tag == y_test).sum().float()\n",
        "    acc = correct_results_sum/y_test.shape[0]\n",
        "    acc = torch.round(acc * 100)\n",
        "    \n",
        "    return acc\n",
        "\n",
        "model.train()\n",
        "for e in range(1, EPOCHS+1):\n",
        "    epoch_loss = 0\n",
        "    epoch_acc = 0\n",
        "    for X_batch, y_batch in trainloader:\n",
        "        X_batch, y_batch = X_batch.to(device), y_batch.to(device)\n",
        "        optimizer.zero_grad()\n",
        "        \n",
        "        y_pred = model(X_batch.float())\n",
        "        \n",
        "        loss = criterion(y_pred, y_batch.squeeze())\n",
        "        acc = binary_acc(y_pred, y_batch)\n",
        "        \n",
        "        loss.backward()\n",
        "        optimizer.step()\n",
        "        \n",
        "        epoch_loss += loss.item()\n",
        "        epoch_acc += acc.item()"
      ],
      "metadata": {
        "id": "ayNI7TFvWmJN",
        "colab": {
          "base_uri": "https://localhost:8080/",
          "height": 423
        },
        "outputId": "4b8f241f-b7f6-435b-a6eb-63a8b6dbc801"
      },
      "execution_count": 8,
      "outputs": [
        {
          "output_type": "error",
          "ename": "RuntimeError",
          "evalue": "ignored",
          "traceback": [
            "\u001b[0;31m---------------------------------------------------------------------------\u001b[0m",
            "\u001b[0;31mRuntimeError\u001b[0m                              Traceback (most recent call last)",
            "\u001b[0;32m<ipython-input-8-424d8aba418b>\u001b[0m in \u001b[0;36m<module>\u001b[0;34m()\u001b[0m\n\u001b[1;32m     30\u001b[0m         \u001b[0macc\u001b[0m \u001b[0;34m=\u001b[0m \u001b[0mbinary_acc\u001b[0m\u001b[0;34m(\u001b[0m\u001b[0my_pred\u001b[0m\u001b[0;34m,\u001b[0m \u001b[0my_batch\u001b[0m\u001b[0;34m)\u001b[0m\u001b[0;34m\u001b[0m\u001b[0;34m\u001b[0m\u001b[0m\n\u001b[1;32m     31\u001b[0m \u001b[0;34m\u001b[0m\u001b[0m\n\u001b[0;32m---> 32\u001b[0;31m         \u001b[0mloss\u001b[0m\u001b[0;34m.\u001b[0m\u001b[0mbackward\u001b[0m\u001b[0;34m(\u001b[0m\u001b[0;34m)\u001b[0m\u001b[0;34m\u001b[0m\u001b[0;34m\u001b[0m\u001b[0m\n\u001b[0m\u001b[1;32m     33\u001b[0m         \u001b[0moptimizer\u001b[0m\u001b[0;34m.\u001b[0m\u001b[0mstep\u001b[0m\u001b[0;34m(\u001b[0m\u001b[0;34m)\u001b[0m\u001b[0;34m\u001b[0m\u001b[0;34m\u001b[0m\u001b[0m\n\u001b[1;32m     34\u001b[0m \u001b[0;34m\u001b[0m\u001b[0m\n",
            "\u001b[0;32m/usr/local/lib/python3.7/dist-packages/torch/_tensor.py\u001b[0m in \u001b[0;36mbackward\u001b[0;34m(self, gradient, retain_graph, create_graph, inputs)\u001b[0m\n\u001b[1;32m    305\u001b[0m                 \u001b[0mcreate_graph\u001b[0m\u001b[0;34m=\u001b[0m\u001b[0mcreate_graph\u001b[0m\u001b[0;34m,\u001b[0m\u001b[0;34m\u001b[0m\u001b[0;34m\u001b[0m\u001b[0m\n\u001b[1;32m    306\u001b[0m                 inputs=inputs)\n\u001b[0;32m--> 307\u001b[0;31m         \u001b[0mtorch\u001b[0m\u001b[0;34m.\u001b[0m\u001b[0mautograd\u001b[0m\u001b[0;34m.\u001b[0m\u001b[0mbackward\u001b[0m\u001b[0;34m(\u001b[0m\u001b[0mself\u001b[0m\u001b[0;34m,\u001b[0m \u001b[0mgradient\u001b[0m\u001b[0;34m,\u001b[0m \u001b[0mretain_graph\u001b[0m\u001b[0;34m,\u001b[0m \u001b[0mcreate_graph\u001b[0m\u001b[0;34m,\u001b[0m \u001b[0minputs\u001b[0m\u001b[0;34m=\u001b[0m\u001b[0minputs\u001b[0m\u001b[0;34m)\u001b[0m\u001b[0;34m\u001b[0m\u001b[0;34m\u001b[0m\u001b[0m\n\u001b[0m\u001b[1;32m    308\u001b[0m \u001b[0;34m\u001b[0m\u001b[0m\n\u001b[1;32m    309\u001b[0m     \u001b[0;32mdef\u001b[0m \u001b[0mregister_hook\u001b[0m\u001b[0;34m(\u001b[0m\u001b[0mself\u001b[0m\u001b[0;34m,\u001b[0m \u001b[0mhook\u001b[0m\u001b[0;34m)\u001b[0m\u001b[0;34m:\u001b[0m\u001b[0;34m\u001b[0m\u001b[0;34m\u001b[0m\u001b[0m\n",
            "\u001b[0;32m/usr/local/lib/python3.7/dist-packages/torch/autograd/__init__.py\u001b[0m in \u001b[0;36mbackward\u001b[0;34m(tensors, grad_tensors, retain_graph, create_graph, grad_variables, inputs)\u001b[0m\n\u001b[1;32m    154\u001b[0m     Variable._execution_engine.run_backward(\n\u001b[1;32m    155\u001b[0m         \u001b[0mtensors\u001b[0m\u001b[0;34m,\u001b[0m \u001b[0mgrad_tensors_\u001b[0m\u001b[0;34m,\u001b[0m \u001b[0mretain_graph\u001b[0m\u001b[0;34m,\u001b[0m \u001b[0mcreate_graph\u001b[0m\u001b[0;34m,\u001b[0m \u001b[0minputs\u001b[0m\u001b[0;34m,\u001b[0m\u001b[0;34m\u001b[0m\u001b[0;34m\u001b[0m\u001b[0m\n\u001b[0;32m--> 156\u001b[0;31m         allow_unreachable=True, accumulate_grad=True)  # allow_unreachable flag\n\u001b[0m\u001b[1;32m    157\u001b[0m \u001b[0;34m\u001b[0m\u001b[0m\n\u001b[1;32m    158\u001b[0m \u001b[0;34m\u001b[0m\u001b[0m\n",
            "\u001b[0;31mRuntimeError\u001b[0m: CUDA error: device-side assert triggered\nCUDA kernel errors might be asynchronously reported at some other API call,so the stacktrace below might be incorrect.\nFor debugging consider passing CUDA_LAUNCH_BLOCKING=1."
          ]
        }
      ]
    },
    {
      "cell_type": "code",
      "source": [
        "%whos"
      ],
      "metadata": {
        "colab": {
          "base_uri": "https://localhost:8080/"
        },
        "id": "EeUbymw7FjzJ",
        "outputId": "815a63ac-8d77-4c26-cd2d-0bed99bbf0c3"
      },
      "execution_count": 9,
      "outputs": [
        {
          "output_type": "stream",
          "name": "stdout",
          "text": [
            "Variable              Type                Data/Info\n",
            "---------------------------------------------------\n",
            "DataLoader            type                <class 'torch.utils.data.dataloader.DataLoader'>\n",
            "Dataset               type                <class 'torch.utils.data.dataset.Dataset'>\n",
            "Discriminator         type                <class '__main__.Discriminator'>\n",
            "EPOCHS                int                 50\n",
            "LEARNING_RATE         float               0.001\n",
            "PBdataset             type                <class '__main__.PBdataset'>\n",
            "X_batch               Tensor              <object with id 140431260747056 (str() failed)>\n",
            "X_test                ndarray             10000x32x32x3: 30720000 elems, type `uint8`, 30720000 bytes (29.296875 Mb)\n",
            "X_train               ndarray             50000x32x32x3: 153600000 elems, type `uint8`, 153600000 bytes (146.484375 Mb)\n",
            "Xpb_test              ndarray             2000x3x32x32: 6144000 elems, type `uint8`, 6144000 bytes (5.859375 Mb)\n",
            "Xpb_train             ndarray             10000x3x32x32: 30720000 elems, type `uint8`, 30720000 bytes (29.296875 Mb)\n",
            "Y_test                ndarray             10000x1: 10000 elems, type `uint8`, 10000 bytes\n",
            "Y_train               ndarray             50000x1: 50000 elems, type `uint8`, 50000 bytes\n",
            "Ypb_test              ndarray             2000x1: 2000 elems, type `uint8`, 2000 bytes\n",
            "Ypb_train             ndarray             10000x1: 10000 elems, type `uint8`, 10000 bytes\n",
            "acc                   Tensor              <object with id 140431260258576 (str() failed)>\n",
            "batch_size            int                 50\n",
            "binary_acc            function            <function binary_acc at 0x7fb83075a290>\n",
            "bird_idx              tuple               n=1\n",
            "bird_idx_test         tuple               n=1\n",
            "cifar10               module              <module 'keras.datasets.c<...>ras/datasets/cifar10.py'>\n",
            "classes               tuple               n=10\n",
            "criterion             CrossEntropyLoss    CrossEntropyLoss()\n",
            "device                device              cuda\n",
            "e                     int                 1\n",
            "epoch_acc             int                 0\n",
            "epoch_loss            int                 0\n",
            "loss                  Tensor              <object with id 140431260259056 (str() failed)>\n",
            "model                 Discriminator       Discriminator(\\n  (layer1<...>features=2, bias=True)\\n)\n",
            "nn                    module              <module 'torch.nn' from '<...>es/torch/nn/__init__.py'>\n",
            "np                    module              <module 'numpy' from '/us<...>kages/numpy/__init__.py'>\n",
            "optim                 module              <module 'torch.optim' fro<...>torch/optim/__init__.py'>\n",
            "optimizer             Adam                Adam (\\nParameter Group 0<...>1\\n    weight_decay: 0\\n)\n",
            "plane_bird_idx        ndarray             10000: 10000 elems, type `int64`, 80000 bytes\n",
            "plane_bird_idx_test   ndarray             2000: 2000 elems, type `int64`, 16000 bytes\n",
            "plane_idx             tuple               n=1\n",
            "plane_idx_test        tuple               n=1\n",
            "plt                   module              <module 'matplotlib.pyplo<...>es/matplotlib/pyplot.py'>\n",
            "test                  function            <function test at 0x7fb830735680>\n",
            "testloader            DataLoader          <torch.utils.data.dataloa<...>object at 0x7fb83072fad0>\n",
            "testset               PBdataset           <__main__.PBdataset object at 0x7fb832cb9ad0>\n",
            "torch                 module              <module 'torch' from '/us<...>kages/torch/__init__.py'>\n",
            "torchvision           module              <module 'torchvision' fro<...>torchvision/__init__.py'>\n",
            "trainloader           DataLoader          <torch.utils.data.dataloa<...>object at 0x7fb832cb9d10>\n",
            "trainset              PBdataset           <__main__.PBdataset object at 0x7fb832cb97d0>\n",
            "y_batch               Tensor              <object with id 140431260746000 (str() failed)>\n",
            "y_pred                Tensor              <object with id 140431260259248 (str() failed)>\n"
          ]
        }
      ]
    }
  ]
}